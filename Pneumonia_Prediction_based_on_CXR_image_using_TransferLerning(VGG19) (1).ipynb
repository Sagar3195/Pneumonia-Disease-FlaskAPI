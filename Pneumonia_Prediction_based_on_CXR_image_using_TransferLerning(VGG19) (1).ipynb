{
  "nbformat": 4,
  "nbformat_minor": 0,
  "metadata": {
    "colab": {
      "name": "Pneumonia Prediction based on CXR image using TransferLerning(VGG19).ipynb",
      "provenance": [],
      "collapsed_sections": []
    },
    "kernelspec": {
      "name": "python3",
      "display_name": "Python 3"
    },
    "accelerator": "GPU"
  },
  "cells": [
    {
      "cell_type": "code",
      "metadata": {
        "id": "Lti2amMjQilD"
      },
      "source": [
        "from tensorflow.keras.layers import Input, Lambda, Flatten, Dense, Conv2D, MaxPooling2D\n",
        "from tensorflow.keras.models import Model, Sequential\n",
        "from tensorflow.keras.applications.vgg19 import VGG19\n",
        "from tensorflow.keras.applications.vgg19 import preprocess_input\n",
        "from tensorflow.keras.preprocessing import image\n",
        "from tensorflow.keras.preprocessing.image import ImageDataGenerator\n",
        "from glob import glob"
      ],
      "execution_count": 1,
      "outputs": []
    },
    {
      "cell_type": "code",
      "metadata": {
        "id": "AKtVC-VkRUBX"
      },
      "source": [
        "import numpy as np\n",
        "import matplotlib.pyplot as plt\n",
        "import cv2\n",
        "import warnings\n",
        "warnings.filterwarnings('ignore')\n",
        "%matplotlib inline"
      ],
      "execution_count": 2,
      "outputs": []
    },
    {
      "cell_type": "code",
      "metadata": {
        "id": "wgvi-p_lRZJq"
      },
      "source": [
        "### Re-sizing the image\n",
        "IMAGE_SIZE = [224, 224]\n",
        "train_path = \"/content/drive/My Drive/Lung_Disease/lung_disease/train\"\n",
        "test_path = \"/content/drive/My Drive/Lung_Disease/lung_disease/test\""
      ],
      "execution_count": 3,
      "outputs": []
    },
    {
      "cell_type": "code",
      "metadata": {
        "id": "beoTp8llgJJx"
      },
      "source": [
        ""
      ],
      "execution_count": null,
      "outputs": []
    },
    {
      "cell_type": "code",
      "metadata": {
        "id": "SyCK0qQ_RZOA",
        "colab": {
          "base_uri": "https://localhost:8080/"
        },
        "outputId": "e8e03ebb-7738-4588-f735-45fc0cf25f2f"
      },
      "source": [
        "vgg = VGG19(input_shape = IMAGE_SIZE + [3], weights = 'imagenet', include_top = False)"
      ],
      "execution_count": 5,
      "outputs": [
        {
          "output_type": "stream",
          "text": [
            "Downloading data from https://storage.googleapis.com/tensorflow/keras-applications/vgg19/vgg19_weights_tf_dim_ordering_tf_kernels_notop.h5\n",
            "80142336/80134624 [==============================] - 0s 0us/step\n"
          ],
          "name": "stdout"
        }
      ]
    },
    {
      "cell_type": "code",
      "metadata": {
        "id": "OD97kOipRZnX"
      },
      "source": [
        "### Don't train the existing the weights\n",
        "for layer in vgg.layers:\n",
        "  layer.trainable = False"
      ],
      "execution_count": 6,
      "outputs": []
    },
    {
      "cell_type": "code",
      "metadata": {
        "id": "6LXh3U69RanH",
        "colab": {
          "base_uri": "https://localhost:8080/"
        },
        "outputId": "1a6bdf9d-82bc-43e2-d29c-1ef465160600"
      },
      "source": [
        "### Here getting number of output classes\n",
        "folders = glob(\"/content/drive/My Drive/Lung_Disease/lung_disease/train/*\")\n",
        "folders"
      ],
      "execution_count": 7,
      "outputs": [
        {
          "output_type": "execute_result",
          "data": {
            "text/plain": [
              "['/content/drive/My Drive/Lung_Disease/lung_disease/train/NORMAL',\n",
              " '/content/drive/My Drive/Lung_Disease/lung_disease/train/PNEUMONIA']"
            ]
          },
          "metadata": {
            "tags": []
          },
          "execution_count": 7
        }
      ]
    },
    {
      "cell_type": "code",
      "metadata": {
        "id": "KTwDa440Rayj"
      },
      "source": [
        "x = Flatten()(vgg.output)"
      ],
      "execution_count": 8,
      "outputs": []
    },
    {
      "cell_type": "code",
      "metadata": {
        "id": "MiHubV9MRawN"
      },
      "source": [
        "prediction = Dense(len(folders), activation = 'softmax')(x)"
      ],
      "execution_count": 9,
      "outputs": []
    },
    {
      "cell_type": "code",
      "metadata": {
        "id": "TV-hjOiiRasm"
      },
      "source": [
        "### create the model object\n",
        "\n",
        "model = Model(inputs = vgg.input, outputs = prediction)"
      ],
      "execution_count": 10,
      "outputs": []
    },
    {
      "cell_type": "code",
      "metadata": {
        "id": "RndgDehrRajw",
        "colab": {
          "base_uri": "https://localhost:8080/"
        },
        "outputId": "94d4b4a7-aac9-4360-90e9-25354a43ae96"
      },
      "source": [
        "### Now we view the structure of the model\n",
        "\n",
        "model.summary()"
      ],
      "execution_count": 11,
      "outputs": [
        {
          "output_type": "stream",
          "text": [
            "Model: \"model\"\n",
            "_________________________________________________________________\n",
            "Layer (type)                 Output Shape              Param #   \n",
            "=================================================================\n",
            "input_1 (InputLayer)         [(None, 224, 224, 3)]     0         \n",
            "_________________________________________________________________\n",
            "block1_conv1 (Conv2D)        (None, 224, 224, 64)      1792      \n",
            "_________________________________________________________________\n",
            "block1_conv2 (Conv2D)        (None, 224, 224, 64)      36928     \n",
            "_________________________________________________________________\n",
            "block1_pool (MaxPooling2D)   (None, 112, 112, 64)      0         \n",
            "_________________________________________________________________\n",
            "block2_conv1 (Conv2D)        (None, 112, 112, 128)     73856     \n",
            "_________________________________________________________________\n",
            "block2_conv2 (Conv2D)        (None, 112, 112, 128)     147584    \n",
            "_________________________________________________________________\n",
            "block2_pool (MaxPooling2D)   (None, 56, 56, 128)       0         \n",
            "_________________________________________________________________\n",
            "block3_conv1 (Conv2D)        (None, 56, 56, 256)       295168    \n",
            "_________________________________________________________________\n",
            "block3_conv2 (Conv2D)        (None, 56, 56, 256)       590080    \n",
            "_________________________________________________________________\n",
            "block3_conv3 (Conv2D)        (None, 56, 56, 256)       590080    \n",
            "_________________________________________________________________\n",
            "block3_conv4 (Conv2D)        (None, 56, 56, 256)       590080    \n",
            "_________________________________________________________________\n",
            "block3_pool (MaxPooling2D)   (None, 28, 28, 256)       0         \n",
            "_________________________________________________________________\n",
            "block4_conv1 (Conv2D)        (None, 28, 28, 512)       1180160   \n",
            "_________________________________________________________________\n",
            "block4_conv2 (Conv2D)        (None, 28, 28, 512)       2359808   \n",
            "_________________________________________________________________\n",
            "block4_conv3 (Conv2D)        (None, 28, 28, 512)       2359808   \n",
            "_________________________________________________________________\n",
            "block4_conv4 (Conv2D)        (None, 28, 28, 512)       2359808   \n",
            "_________________________________________________________________\n",
            "block4_pool (MaxPooling2D)   (None, 14, 14, 512)       0         \n",
            "_________________________________________________________________\n",
            "block5_conv1 (Conv2D)        (None, 14, 14, 512)       2359808   \n",
            "_________________________________________________________________\n",
            "block5_conv2 (Conv2D)        (None, 14, 14, 512)       2359808   \n",
            "_________________________________________________________________\n",
            "block5_conv3 (Conv2D)        (None, 14, 14, 512)       2359808   \n",
            "_________________________________________________________________\n",
            "block5_conv4 (Conv2D)        (None, 14, 14, 512)       2359808   \n",
            "_________________________________________________________________\n",
            "block5_pool (MaxPooling2D)   (None, 7, 7, 512)         0         \n",
            "_________________________________________________________________\n",
            "flatten (Flatten)            (None, 25088)             0         \n",
            "_________________________________________________________________\n",
            "dense (Dense)                (None, 2)                 50178     \n",
            "=================================================================\n",
            "Total params: 20,074,562\n",
            "Trainable params: 50,178\n",
            "Non-trainable params: 20,024,384\n",
            "_________________________________________________________________\n"
          ],
          "name": "stdout"
        }
      ]
    },
    {
      "cell_type": "code",
      "metadata": {
        "id": "IRZA_DKfRafF"
      },
      "source": [
        "#Now we compile the model\n",
        "model.compile(loss = 'categorical_crossentropy', optimizer = 'adam', metrics = ['accuracy'])"
      ],
      "execution_count": 12,
      "outputs": []
    },
    {
      "cell_type": "code",
      "metadata": {
        "id": "_hcac0UCRabW"
      },
      "source": [
        "train_datagen = ImageDataGenerator(rescale = 1./255, shear_range = 0.2, zoom_range = 0.2, horizontal_flip = True)"
      ],
      "execution_count": 13,
      "outputs": []
    },
    {
      "cell_type": "code",
      "metadata": {
        "id": "wS5z8MPHRaYR"
      },
      "source": [
        "test_datagen = ImageDataGenerator(rescale = 1./ 255)"
      ],
      "execution_count": 14,
      "outputs": []
    },
    {
      "cell_type": "code",
      "metadata": {
        "id": "erwBH0QaRaVF",
        "colab": {
          "base_uri": "https://localhost:8080/"
        },
        "outputId": "b98d79c9-94a2-4962-91c0-710f87710640"
      },
      "source": [
        "## here we provide same target size as initialised for images\n",
        "\n",
        "train_set = train_datagen.flow_from_directory(train_path, target_size = (224, 224), batch_size = 32, class_mode = 'categorical')\n"
      ],
      "execution_count": 15,
      "outputs": [
        {
          "output_type": "stream",
          "text": [
            "Found 5216 images belonging to 2 classes.\n"
          ],
          "name": "stdout"
        }
      ]
    },
    {
      "cell_type": "code",
      "metadata": {
        "id": "ju0_6dswRaQm",
        "colab": {
          "base_uri": "https://localhost:8080/"
        },
        "outputId": "88f67b17-4d2e-4f41-d0f6-b817acbc6cb7"
      },
      "source": [
        "test_set = test_datagen.flow_from_directory(test_path, target_size = (224, 224), batch_size = 32, class_mode = 'categorical')"
      ],
      "execution_count": 16,
      "outputs": [
        {
          "output_type": "stream",
          "text": [
            "Found 625 images belonging to 2 classes.\n"
          ],
          "name": "stdout"
        }
      ]
    },
    {
      "cell_type": "code",
      "metadata": {
        "id": "BxJyGQDyRaLB",
        "colab": {
          "base_uri": "https://localhost:8080/"
        },
        "outputId": "3d844b2e-b784-4c65-ebee-7ef216b41fad"
      },
      "source": [
        "#now we train the model\n",
        "result = model.fit_generator(train_set, validation_data = test_set, epochs = 10, steps_per_epoch = len(train_set), validation_steps = len(test_set))"
      ],
      "execution_count": 17,
      "outputs": [
        {
          "output_type": "stream",
          "text": [
            "Epoch 1/10\n",
            "163/163 [==============================] - 3189s 20s/step - loss: 0.6458 - accuracy: 0.8186 - val_loss: 0.3674 - val_accuracy: 0.8528\n",
            "Epoch 2/10\n",
            "163/163 [==============================] - 111s 680ms/step - loss: 0.1366 - accuracy: 0.9461 - val_loss: 0.3098 - val_accuracy: 0.8848\n",
            "Epoch 3/10\n",
            "163/163 [==============================] - 111s 679ms/step - loss: 0.1098 - accuracy: 0.9564 - val_loss: 0.3032 - val_accuracy: 0.9072\n",
            "Epoch 4/10\n",
            "163/163 [==============================] - 111s 681ms/step - loss: 0.1016 - accuracy: 0.9603 - val_loss: 0.2794 - val_accuracy: 0.9040\n",
            "Epoch 5/10\n",
            "163/163 [==============================] - 111s 680ms/step - loss: 0.1058 - accuracy: 0.9595 - val_loss: 0.4287 - val_accuracy: 0.8848\n",
            "Epoch 6/10\n",
            "163/163 [==============================] - 111s 680ms/step - loss: 0.0949 - accuracy: 0.9654 - val_loss: 0.3823 - val_accuracy: 0.8992\n",
            "Epoch 7/10\n",
            "163/163 [==============================] - 111s 684ms/step - loss: 0.1033 - accuracy: 0.9590 - val_loss: 0.3427 - val_accuracy: 0.8976\n",
            "Epoch 8/10\n",
            "163/163 [==============================] - 111s 680ms/step - loss: 0.0891 - accuracy: 0.9668 - val_loss: 0.2757 - val_accuracy: 0.9200\n",
            "Epoch 9/10\n",
            "163/163 [==============================] - 111s 682ms/step - loss: 0.0816 - accuracy: 0.9694 - val_loss: 0.4215 - val_accuracy: 0.8912\n",
            "Epoch 10/10\n",
            "163/163 [==============================] - 112s 684ms/step - loss: 0.0760 - accuracy: 0.9727 - val_loss: 0.3065 - val_accuracy: 0.9168\n"
          ],
          "name": "stdout"
        }
      ]
    },
    {
      "cell_type": "code",
      "metadata": {
        "id": "p3UtMNqYRaH0",
        "colab": {
          "base_uri": "https://localhost:8080/",
          "height": 513
        },
        "outputId": "092fd365-ba6b-42b7-c49e-5ae34f153d23"
      },
      "source": [
        "plt.plot(result.history['loss'], label = 'Train Loss')\n",
        "plt.plot(result.history['val_loss'], label = 'Val Loss')\n",
        "plt.legend()\n",
        "plt.show()\n",
        "\n",
        "plt.plot(result.history['accuracy'], label = 'Train Acc')\n",
        "plt.plot(result.history['val_accuracy'], label = 'Val Acc')\n",
        "plt.legend()\n",
        "plt.show()"
      ],
      "execution_count": 18,
      "outputs": [
        {
          "output_type": "display_data",
          "data": {
            "image/png": "[encoded data removed]",
            "text/plain": [
              "<Figure size 432x288 with 1 Axes>"
            ]
          },
          "metadata": {
            "tags": [],
            "needs_background": "light"
          }
        },
        {
          "output_type": "display_data",
          "data": {
            "image/png": "[encoded data removed]",
            "text/plain": [
              "<Figure size 432x288 with 1 Axes>"
            ]
          },
          "metadata": {
            "tags": [],
            "needs_background": "light"
          }
        }
      ]
    },
    {
      "cell_type": "code",
      "metadata": {
        "id": "uohxjWokaSOi"
      },
      "source": [
        ""
      ],
      "execution_count": null,
      "outputs": []
    },
    {
      "cell_type": "code",
      "metadata": {
        "id": "qj_pZl12RaEc"
      },
      "source": [
        "from tensorflow.keras.models import load_model\n",
        "model.save(\"pneumonia_model_vgg19.h5\")"
      ],
      "execution_count": 21,
      "outputs": []
    },
    {
      "cell_type": "code",
      "metadata": {
        "id": "j-ehVWAdRaBk"
      },
      "source": [
        "## Now we load model for prediction of dataset\n",
        " \n",
        "model_img = load_model(\"pneumonia_model_vgg19.h5\")"
      ],
      "execution_count": 22,
      "outputs": []
    },
    {
      "cell_type": "code",
      "metadata": {
        "id": "sa7TMT0FRZ-a"
      },
      "source": [
        "img = image.load_img(\"/content/drive/My Drive/Lung_Disease/lung_disease/test/PNEUMONIA/person100_bacteria_478.jpeg\", target_size = (224, 224))"
      ],
      "execution_count": 23,
      "outputs": []
    },
    {
      "cell_type": "code",
      "metadata": {
        "id": "rc63qZXQEdPI",
        "colab": {
          "base_uri": "https://localhost:8080/",
          "height": 241
        },
        "outputId": "b3af38ce-5b55-4c57-fed6-413780f91005"
      },
      "source": [
        "img"
      ],
      "execution_count": 24,
      "outputs": [
        {
          "output_type": "execute_result",
          "data": {
            "image/png": "[encoded data removed]",
            "text/plain": [
              "<PIL.Image.Image image mode=RGB size=224x224 at 0x7FAEC28BE588>"
            ]
          },
          "metadata": {
            "tags": []
          },
          "execution_count": 24
        }
      ]
    },
    {
      "cell_type": "code",
      "metadata": {
        "id": "gxkJE2fGRZ6A"
      },
      "source": [
        "x = image.img_to_array(img)"
      ],
      "execution_count": 25,
      "outputs": []
    },
    {
      "cell_type": "code",
      "metadata": {
        "id": "NJMCc_BhEgon",
        "colab": {
          "base_uri": "https://localhost:8080/"
        },
        "outputId": "9903274e-7937-45b5-9606-b6043197f761"
      },
      "source": [
        "x"
      ],
      "execution_count": 26,
      "outputs": [
        {
          "output_type": "execute_result",
          "data": {
            "text/plain": [
              "array([[[184., 184., 184.],\n",
              "        [183., 183., 183.],\n",
              "        [172., 172., 172.],\n",
              "        ...,\n",
              "        [203., 203., 203.],\n",
              "        [201., 201., 201.],\n",
              "        [207., 207., 207.]],\n",
              "\n",
              "       [[174., 174., 174.],\n",
              "        [180., 180., 180.],\n",
              "        [185., 185., 185.],\n",
              "        ...,\n",
              "        [200., 200., 200.],\n",
              "        [199., 199., 199.],\n",
              "        [208., 208., 208.]],\n",
              "\n",
              "       [[164., 164., 164.],\n",
              "        [175., 175., 175.],\n",
              "        [184., 184., 184.],\n",
              "        ...,\n",
              "        [202., 202., 202.],\n",
              "        [207., 207., 207.],\n",
              "        [201., 201., 201.]],\n",
              "\n",
              "       ...,\n",
              "\n",
              "       [[102., 102., 102.],\n",
              "        [ 44.,  44.,  44.],\n",
              "        [ 19.,  19.,  19.],\n",
              "        ...,\n",
              "        [ 79.,  79.,  79.],\n",
              "        [108., 108., 108.],\n",
              "        [124., 124., 124.]],\n",
              "\n",
              "       [[ 96.,  96.,  96.],\n",
              "        [ 18.,  18.,  18.],\n",
              "        [ 20.,  20.,  20.],\n",
              "        ...,\n",
              "        [ 94.,  94.,  94.],\n",
              "        [ 84.,  84.,  84.],\n",
              "        [132., 132., 132.]],\n",
              "\n",
              "       [[106., 106., 106.],\n",
              "        [ 36.,  36.,  36.],\n",
              "        [ 19.,  19.,  19.],\n",
              "        ...,\n",
              "        [118., 118., 118.],\n",
              "        [ 92.,  92.,  92.],\n",
              "        [ 99.,  99.,  99.]]], dtype=float32)"
            ]
          },
          "metadata": {
            "tags": []
          },
          "execution_count": 26
        }
      ]
    },
    {
      "cell_type": "code",
      "metadata": {
        "id": "mdG-IhJMRZ1D"
      },
      "source": [
        "x = np.expand_dims(x, axis = 0)"
      ],
      "execution_count": 27,
      "outputs": []
    },
    {
      "cell_type": "code",
      "metadata": {
        "id": "odyKRLN7Ej1E",
        "colab": {
          "base_uri": "https://localhost:8080/"
        },
        "outputId": "1fe05080-6fae-4896-fb00-093d1f69fb4f"
      },
      "source": [
        "x"
      ],
      "execution_count": 28,
      "outputs": [
        {
          "output_type": "execute_result",
          "data": {
            "text/plain": [
              "array([[[[184., 184., 184.],\n",
              "         [183., 183., 183.],\n",
              "         [172., 172., 172.],\n",
              "         ...,\n",
              "         [203., 203., 203.],\n",
              "         [201., 201., 201.],\n",
              "         [207., 207., 207.]],\n",
              "\n",
              "        [[174., 174., 174.],\n",
              "         [180., 180., 180.],\n",
              "         [185., 185., 185.],\n",
              "         ...,\n",
              "         [200., 200., 200.],\n",
              "         [199., 199., 199.],\n",
              "         [208., 208., 208.]],\n",
              "\n",
              "        [[164., 164., 164.],\n",
              "         [175., 175., 175.],\n",
              "         [184., 184., 184.],\n",
              "         ...,\n",
              "         [202., 202., 202.],\n",
              "         [207., 207., 207.],\n",
              "         [201., 201., 201.]],\n",
              "\n",
              "        ...,\n",
              "\n",
              "        [[102., 102., 102.],\n",
              "         [ 44.,  44.,  44.],\n",
              "         [ 19.,  19.,  19.],\n",
              "         ...,\n",
              "         [ 79.,  79.,  79.],\n",
              "         [108., 108., 108.],\n",
              "         [124., 124., 124.]],\n",
              "\n",
              "        [[ 96.,  96.,  96.],\n",
              "         [ 18.,  18.,  18.],\n",
              "         [ 20.,  20.,  20.],\n",
              "         ...,\n",
              "         [ 94.,  94.,  94.],\n",
              "         [ 84.,  84.,  84.],\n",
              "         [132., 132., 132.]],\n",
              "\n",
              "        [[106., 106., 106.],\n",
              "         [ 36.,  36.,  36.],\n",
              "         [ 19.,  19.,  19.],\n",
              "         ...,\n",
              "         [118., 118., 118.],\n",
              "         [ 92.,  92.,  92.],\n",
              "         [ 99.,  99.,  99.]]]], dtype=float32)"
            ]
          },
          "metadata": {
            "tags": []
          },
          "execution_count": 28
        }
      ]
    },
    {
      "cell_type": "code",
      "metadata": {
        "id": "McBr57P7RZyb"
      },
      "source": [
        "img_data = preprocess_input(x)"
      ],
      "execution_count": 29,
      "outputs": []
    },
    {
      "cell_type": "code",
      "metadata": {
        "id": "yZFyPiwxEp66",
        "colab": {
          "base_uri": "https://localhost:8080/"
        },
        "outputId": "428275a1-b98c-4bce-f2fc-757e9eecbc57"
      },
      "source": [
        "img_data"
      ],
      "execution_count": 30,
      "outputs": [
        {
          "output_type": "execute_result",
          "data": {
            "text/plain": [
              "array([[[[  80.061    ,   67.221    ,   60.32     ],\n",
              "         [  79.061    ,   66.221    ,   59.32     ],\n",
              "         [  68.061    ,   55.221    ,   48.32     ],\n",
              "         ...,\n",
              "         [  99.061    ,   86.221    ,   79.32     ],\n",
              "         [  97.061    ,   84.221    ,   77.32     ],\n",
              "         [ 103.061    ,   90.221    ,   83.32     ]],\n",
              "\n",
              "        [[  70.061    ,   57.221    ,   50.32     ],\n",
              "         [  76.061    ,   63.221    ,   56.32     ],\n",
              "         [  81.061    ,   68.221    ,   61.32     ],\n",
              "         ...,\n",
              "         [  96.061    ,   83.221    ,   76.32     ],\n",
              "         [  95.061    ,   82.221    ,   75.32     ],\n",
              "         [ 104.061    ,   91.221    ,   84.32     ]],\n",
              "\n",
              "        [[  60.060997 ,   47.221    ,   40.32     ],\n",
              "         [  71.061    ,   58.221    ,   51.32     ],\n",
              "         [  80.061    ,   67.221    ,   60.32     ],\n",
              "         ...,\n",
              "         [  98.061    ,   85.221    ,   78.32     ],\n",
              "         [ 103.061    ,   90.221    ,   83.32     ],\n",
              "         [  97.061    ,   84.221    ,   77.32     ]],\n",
              "\n",
              "        ...,\n",
              "\n",
              "        [[  -1.939003 ,  -14.778999 ,  -21.68     ],\n",
              "         [ -59.939003 ,  -72.779    ,  -79.68     ],\n",
              "         [ -84.939    ,  -97.779    , -104.68     ],\n",
              "         ...,\n",
              "         [ -24.939003 ,  -37.779    ,  -44.68     ],\n",
              "         [   4.060997 ,   -8.778999 ,  -15.68     ],\n",
              "         [  20.060997 ,    7.2210007,    0.3199997]],\n",
              "\n",
              "        [[  -7.939003 ,  -20.779    ,  -27.68     ],\n",
              "         [ -85.939    ,  -98.779    , -105.68     ],\n",
              "         [ -83.939    ,  -96.779    , -103.68     ],\n",
              "         ...,\n",
              "         [  -9.939003 ,  -22.779    ,  -29.68     ],\n",
              "         [ -19.939003 ,  -32.779    ,  -39.68     ],\n",
              "         [  28.060997 ,   15.221001 ,    8.32     ]],\n",
              "\n",
              "        [[   2.060997 ,  -10.778999 ,  -17.68     ],\n",
              "         [ -67.939    ,  -80.779    ,  -87.68     ],\n",
              "         [ -84.939    ,  -97.779    , -104.68     ],\n",
              "         ...,\n",
              "         [  14.060997 ,    1.2210007,   -5.6800003],\n",
              "         [ -11.939003 ,  -24.779    ,  -31.68     ],\n",
              "         [  -4.939003 ,  -17.779    ,  -24.68     ]]]], dtype=float32)"
            ]
          },
          "metadata": {
            "tags": []
          },
          "execution_count": 30
        }
      ]
    },
    {
      "cell_type": "code",
      "metadata": {
        "id": "q9stI-IbRZtj"
      },
      "source": [
        "classes = model.predict(img_data)"
      ],
      "execution_count": 31,
      "outputs": []
    },
    {
      "cell_type": "code",
      "metadata": {
        "id": "NSvyknpqRZjI",
        "colab": {
          "base_uri": "https://localhost:8080/"
        },
        "outputId": "b2cda05d-db05-4f51-9ba2-052223c21d3d"
      },
      "source": [
        "#In folder, first folder is Normal ie 0 and second folder is pneumonia ie 1 , this is how specify image.\n",
        "classes"
      ],
      "execution_count": 32,
      "outputs": [
        {
          "output_type": "execute_result",
          "data": {
            "text/plain": [
              "array([[0., 1.]], dtype=float32)"
            ]
          },
          "metadata": {
            "tags": []
          },
          "execution_count": 32
        }
      ]
    },
    {
      "cell_type": "code",
      "metadata": {
        "id": "L0Dk3cGERZhC",
        "colab": {
          "base_uri": "https://localhost:8080/"
        },
        "outputId": "e4f898e3-19b5-459c-f4c3-13ab9531240d"
      },
      "source": [
        "a = np.expand_dims(classes, axis = 0)\n",
        "a.ndim"
      ],
      "execution_count": 33,
      "outputs": [
        {
          "output_type": "execute_result",
          "data": {
            "text/plain": [
              "3"
            ]
          },
          "metadata": {
            "tags": []
          },
          "execution_count": 33
        }
      ]
    },
    {
      "cell_type": "code",
      "metadata": {
        "id": "Ue88urPERZfP"
      },
      "source": [
        "a = np.argmax(classes, axis = 1)"
      ],
      "execution_count": 35,
      "outputs": []
    },
    {
      "cell_type": "code",
      "metadata": {
        "id": "xULcoYoURZda",
        "colab": {
          "base_uri": "https://localhost:8080/"
        },
        "outputId": "d5351156-c2cf-4394-828f-ca223275fc9e"
      },
      "source": [
        "if a == 0:\r\n",
        "  print(\"Great!!!, You don't have pneumonia disease.\")\r\n",
        "else:\r\n",
        "  print(\"Sorry, You have pneumonia disease,kindly contact your doctor.\")"
      ],
      "execution_count": 37,
      "outputs": [
        {
          "output_type": "stream",
          "text": [
            "Sorry, You have pneumonia disease,kindly contact your doctor.\n"
          ],
          "name": "stdout"
        }
      ]
    },
    {
      "cell_type": "code",
      "metadata": {
        "id": "rtYHVGLCRZay"
      },
      "source": [
        ""
      ],
      "execution_count": null,
      "outputs": []
    },
    {
      "cell_type": "code",
      "metadata": {
        "id": "7UGN2c0SRZXM"
      },
      "source": [
        ""
      ],
      "execution_count": null,
      "outputs": []
    },
    {
      "cell_type": "code",
      "metadata": {
        "id": "LlyLNZ5KRT-p"
      },
      "source": [
        ""
      ],
      "execution_count": null,
      "outputs": []
    },
    {
      "cell_type": "code",
      "metadata": {
        "id": "1Q7o8hwBRT6v"
      },
      "source": [
        ""
      ],
      "execution_count": null,
      "outputs": []
    },
    {
      "cell_type": "code",
      "metadata": {
        "id": "xJIsTkt5RT2z"
      },
      "source": [
        ""
      ],
      "execution_count": null,
      "outputs": []
    }
  ]
}